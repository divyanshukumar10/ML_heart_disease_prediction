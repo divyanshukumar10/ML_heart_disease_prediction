{
 "cells": [
  {
   "cell_type": "code",
   "execution_count": 1,
   "metadata": {},
   "outputs": [],
   "source": [
    "import numpy as np\n",
    "import pandas as pd\n",
    "from sklearn.metrics import confusion_matrix\n",
    "from sklearn.model_selection import train_test_split\n",
    "from sklearn.linear_model import LogisticRegression\n",
    "from sklearn.neighbors import KNeighborsClassifier\n",
    "from sklearn.svm import SVC\n",
    "from sklearn.naive_bayes import GaussianNB\n",
    "from sklearn.tree import DecisionTreeClassifier\n",
    "from sklearn.ensemble import RandomForestClassifier"
   ]
  },
  {
   "cell_type": "code",
   "execution_count": 2,
   "metadata": {},
   "outputs": [
    {
     "name": "stderr",
     "output_type": "stream",
     "text": [
      "Using TensorFlow backend.\n",
      "F:\\anaconda3\\lib\\site-packages\\tensorflow\\python\\framework\\dtypes.py:526: FutureWarning: Passing (type, 1) or '1type' as a synonym of type is deprecated; in a future version of numpy, it will be understood as (type, (1,)) / '(1,)type'.\n",
      "  _np_qint8 = np.dtype([(\"qint8\", np.int8, 1)])\n",
      "F:\\anaconda3\\lib\\site-packages\\tensorflow\\python\\framework\\dtypes.py:527: FutureWarning: Passing (type, 1) or '1type' as a synonym of type is deprecated; in a future version of numpy, it will be understood as (type, (1,)) / '(1,)type'.\n",
      "  _np_quint8 = np.dtype([(\"quint8\", np.uint8, 1)])\n",
      "F:\\anaconda3\\lib\\site-packages\\tensorflow\\python\\framework\\dtypes.py:528: FutureWarning: Passing (type, 1) or '1type' as a synonym of type is deprecated; in a future version of numpy, it will be understood as (type, (1,)) / '(1,)type'.\n",
      "  _np_qint16 = np.dtype([(\"qint16\", np.int16, 1)])\n",
      "F:\\anaconda3\\lib\\site-packages\\tensorflow\\python\\framework\\dtypes.py:529: FutureWarning: Passing (type, 1) or '1type' as a synonym of type is deprecated; in a future version of numpy, it will be understood as (type, (1,)) / '(1,)type'.\n",
      "  _np_quint16 = np.dtype([(\"quint16\", np.uint16, 1)])\n",
      "F:\\anaconda3\\lib\\site-packages\\tensorflow\\python\\framework\\dtypes.py:530: FutureWarning: Passing (type, 1) or '1type' as a synonym of type is deprecated; in a future version of numpy, it will be understood as (type, (1,)) / '(1,)type'.\n",
      "  _np_qint32 = np.dtype([(\"qint32\", np.int32, 1)])\n",
      "F:\\anaconda3\\lib\\site-packages\\tensorflow\\python\\framework\\dtypes.py:535: FutureWarning: Passing (type, 1) or '1type' as a synonym of type is deprecated; in a future version of numpy, it will be understood as (type, (1,)) / '(1,)type'.\n",
      "  np_resource = np.dtype([(\"resource\", np.ubyte, 1)])\n"
     ]
    }
   ],
   "source": [
    "from keras.models import Sequential\n",
    "from keras.layers import Dense, ReLU\n",
    "import tensorflow as tf\n",
    "from statistics import mode"
   ]
  },
  {
   "cell_type": "code",
   "execution_count": 3,
   "metadata": {},
   "outputs": [],
   "source": [
    "tf.logging.set_verbosity(tf.logging.ERROR)\n",
    "pd.options.mode.chained_assignment = None\n",
    "np.random.seed(100)"
   ]
  },
  {
   "cell_type": "code",
   "execution_count": 4,
   "metadata": {},
   "outputs": [],
   "source": [
    "myData = pd.read_csv(r\"C:\\Users\\DEVENDRA PRASAD\\heart_disease\\heart.csv\")\n",
    "myData.columns = ['age', 'sex', 'chest_pain_type', 'resting_blood_pressure', 'cholesterol', 'fasting_blood_sugar', 'rest_ecg', 'max_heart_rate_achieved', 'exercise_induced_angina', 'st_depression', 'st_slope', 'num_major_vessels', 'thalassemia', 'target']"
   ]
  },
  {
   "cell_type": "code",
   "execution_count": 5,
   "metadata": {},
   "outputs": [],
   "source": [
    "myData['sex'][myData['sex'] == 0] = 'female'\n",
    "myData['sex'][myData['sex'] == 1] = 'male'\n",
    "myData['chest_pain_type'][myData['chest_pain_type'] == 1] = 'typical angina'\n",
    "myData['chest_pain_type'][myData['chest_pain_type'] == 2] = 'atypical angina'\n",
    "myData['chest_pain_type'][myData['chest_pain_type'] == 3] = 'non-anginal pain'\n",
    "myData['chest_pain_type'][myData['chest_pain_type'] == 4] = 'asymptomatic'\n",
    "myData['fasting_blood_sugar'][myData['fasting_blood_sugar'] == 0] = 'lower than 120mg/ml'\n",
    "myData['fasting_blood_sugar'][myData['fasting_blood_sugar'] == 1] = 'greater than 120mg/ml'\n",
    "myData['rest_ecg'][myData['rest_ecg'] == 0] = 'normal'\n",
    "myData['rest_ecg'][myData['rest_ecg'] == 1] = 'ST-T wave abnormality'\n",
    "myData['rest_ecg'][myData['rest_ecg'] == 2] = 'left ventricular hypertrophy'\n",
    "myData['exercise_induced_angina'][myData['exercise_induced_angina'] == 0] = 'no'\n",
    "myData['exercise_induced_angina'][myData['exercise_induced_angina'] == 1] = 'yes'\n",
    "myData['st_slope'][myData['st_slope'] == 1] = 'upsloping'\n",
    "myData['st_slope'][myData['st_slope'] == 2] = 'flat'\n",
    "myData['st_slope'][myData['st_slope'] == 3] = 'downsloping'\n",
    "myData['thalassemia'][myData['thalassemia'] == 1] = 'normal'\n",
    "myData['thalassemia'][myData['thalassemia'] == 2] = 'fixed defect'\n",
    "myData['thalassemia'][myData['thalassemia'] == 3] = 'reversible defect'"
   ]
  },
  {
   "cell_type": "code",
   "execution_count": 6,
   "metadata": {},
   "outputs": [],
   "source": [
    "myData = pd.get_dummies(myData, drop_first=True)"
   ]
  },
  {
   "cell_type": "code",
   "execution_count": 7,
   "metadata": {},
   "outputs": [],
   "source": [
    "myData = (myData - np.min(myData)) / (np.max(myData) - np.min(myData))\n",
    "x_train, x_test, y_train, y_test = train_test_split(myData.drop('target', axis=1),\n",
    "                                                    myData['target'], test_size=.2, random_state=0)"
   ]
  },
  {
   "cell_type": "code",
   "execution_count": 8,
   "metadata": {},
   "outputs": [
    {
     "name": "stdout",
     "output_type": "stream",
     "text": [
      "Linear Model Accuracy:  0.8524590163934426\n"
     ]
    }
   ],
   "source": [
    "lin_model = LogisticRegression(solver='lbfgs')\n",
    "lin_model.fit(x_train, y_train)\n",
    "print(\"Linear Model Accuracy: \", lin_model.score(x_test, y_test))"
   ]
  },
  {
   "cell_type": "code",
   "execution_count": 9,
   "metadata": {},
   "outputs": [
    {
     "name": "stdout",
     "output_type": "stream",
     "text": [
      "K Nearest Neighbor Model Accuracy:  0.8360655737704918\n"
     ]
    }
   ],
   "source": [
    "knn_model = KNeighborsClassifier()\n",
    "knn_model.fit(x_train, y_train)\n",
    "print(\"K Nearest Neighbor Model Accuracy: \", knn_model.score(x_test, y_test))"
   ]
  },
  {
   "cell_type": "code",
   "execution_count": 10,
   "metadata": {},
   "outputs": [
    {
     "name": "stdout",
     "output_type": "stream",
     "text": [
      "Support Vector Machine Model Accuracy:  0.8524590163934426\n"
     ]
    }
   ],
   "source": [
    "svm_model = SVC(gamma='auto')\n",
    "svm_model.fit(x_train, y_train)\n",
    "print(\"Support Vector Machine Model Accuracy: \", svm_model.score(x_test, y_test))"
   ]
  },
  {
   "cell_type": "code",
   "execution_count": 11,
   "metadata": {},
   "outputs": [
    {
     "name": "stdout",
     "output_type": "stream",
     "text": [
      "Naive Bayes Model Accuracy:  0.8688524590163934\n"
     ]
    }
   ],
   "source": [
    "nb_model = GaussianNB()\n",
    "nb_model.fit(x_train, y_train)\n",
    "print(\"Naive Bayes Model Accuracy: \", nb_model.score(x_test, y_test))"
   ]
  },
  {
   "cell_type": "code",
   "execution_count": 12,
   "metadata": {},
   "outputs": [
    {
     "name": "stdout",
     "output_type": "stream",
     "text": [
      "Decision Tree Model Accuracy:  0.7540983606557377\n"
     ]
    }
   ],
   "source": [
    "tree_model = DecisionTreeClassifier()\n",
    "tree_model.fit(x_train, y_train)\n",
    "print(\"Decision Tree Model Accuracy: \", tree_model.score(x_test, y_test))"
   ]
  },
  {
   "cell_type": "code",
   "execution_count": 13,
   "metadata": {},
   "outputs": [
    {
     "name": "stdout",
     "output_type": "stream",
     "text": [
      "Random Forest Model Accuracy:  0.8360655737704918\n"
     ]
    }
   ],
   "source": [
    "forest_model = RandomForestClassifier(n_estimators=100)\n",
    "forest_model.fit(x_train, y_train)\n",
    "print(\"Random Forest Model Accuracy: \", forest_model.score(x_test, y_test))"
   ]
  },
  {
   "cell_type": "code",
   "execution_count": 14,
   "metadata": {},
   "outputs": [],
   "source": [
    "nn_model = Sequential()\n",
    "nn_model.add(Dense(100, input_shape=(19,)))\n",
    "nn_model.add(ReLU())\n",
    "nn_model.add(Dense(100))\n",
    "nn_model.add(ReLU())\n",
    "nn_model.add(Dense(10))\n",
    "nn_model.add(ReLU())\n",
    "nn_model.add(Dense(1, activation='sigmoid'))"
   ]
  },
  {
   "cell_type": "code",
   "execution_count": 15,
   "metadata": {},
   "outputs": [
    {
     "data": {
      "text/plain": [
       "<keras.callbacks.callbacks.History at 0x181687d2b88>"
      ]
     },
     "execution_count": 15,
     "metadata": {},
     "output_type": "execute_result"
    }
   ],
   "source": [
    "nn_model.compile(optimizer='Adam', loss='categorical_hinge', metrics=['accuracy'])\n",
    "nn_model.fit(x_train, y_train, epochs=15, verbose=0)"
   ]
  },
  {
   "cell_type": "code",
   "execution_count": 16,
   "metadata": {},
   "outputs": [
    {
     "name": "stdout",
     "output_type": "stream",
     "text": [
      "[[23  4]\n",
      " [ 4 30]]\n"
     ]
    }
   ],
   "source": [
    "y_predicted = (nn_model.predict(x_test) > 0.5)\n",
    "conf_mat = confusion_matrix(y_test, y_predicted)\n",
    "print(conf_mat)\n",
    "total = sum(sum(conf_mat))\n",
    "sensitivity = conf_mat[0, 0]/(conf_mat[0, 0] + conf_mat[1, 0])\n",
    "specificity = conf_mat[1, 1]/(conf_mat[1, 1] + conf_mat[0, 1])\n",
    "accuracy = (conf_mat[0, 0] + conf_mat[1, 1])/total"
   ]
  },
  {
   "cell_type": "code",
   "execution_count": 17,
   "metadata": {},
   "outputs": [
    {
     "name": "stdout",
     "output_type": "stream",
     "text": [
      "specificity :  0.8823529411764706\n",
      "sensitivity :  0.8518518518518519\n",
      "accuracy :  0.8688524590163934\n"
     ]
    }
   ],
   "source": [
    "print('specificity : ', specificity)\n",
    "print('sensitivity : ', sensitivity)\n",
    "print('accuracy : ', accuracy)"
   ]
  },
  {
   "cell_type": "code",
   "execution_count": 18,
   "metadata": {},
   "outputs": [],
   "source": [
    "votes = lin_model.predict(x_test) + svm_model.predict(x_test) + nb_model.predict(x_test) \\\n",
    "        + forest_model.predict(x_test) + tree_model.predict(x_test) + knn_model.predict(x_test) \\\n",
    "        + ((nn_model.predict(x_test)>0.5).T)[0].astype(float)"
   ]
  },
  {
   "cell_type": "code",
   "execution_count": 19,
   "metadata": {},
   "outputs": [
    {
     "name": "stdout",
     "output_type": "stream",
     "text": [
      "[False False False False False False False False False False  True  True\n",
      " False  True  True  True False  True False  True  True False False False\n",
      "  True False False False  True  True  True False  True  True  True  True\n",
      " False  True False  True False  True  True False  True  True  True False\n",
      " False  True  True  True  True False  True False  True  True  True  True\n",
      "  True]\n"
     ]
    }
   ],
   "source": [
    "print(votes >= 4)"
   ]
  },
  {
   "cell_type": "code",
   "execution_count": 20,
   "metadata": {},
   "outputs": [
    {
     "name": "stdout",
     "output_type": "stream",
     "text": [
      "[False  True False False  True False False False False False  True  True\n",
      " False  True  True  True  True  True False  True  True False False False\n",
      "  True False False False  True  True False False  True  True  True False\n",
      " False  True False False  True  True  True False  True  True  True False\n",
      " False  True  True  True  True  True  True False  True False  True  True\n",
      "  True]\n"
     ]
    }
   ],
   "source": [
    "print(y_test.values == 1.0)"
   ]
  },
  {
   "cell_type": "code",
   "execution_count": 21,
   "metadata": {},
   "outputs": [],
   "source": [
    "conf_mat = confusion_matrix((y_test.values == 1.0),  (votes >= 4))\n",
    "total = sum(sum(conf_mat))\n",
    "sensitivity = conf_mat[0, 0]/(conf_mat[0, 0] + conf_mat[1, 0])\n",
    "specificity = conf_mat[1, 1]/(conf_mat[1, 1] + conf_mat[0, 1])\n",
    "accuracy = (conf_mat[0, 0] + conf_mat[1, 1])/total"
   ]
  },
  {
   "cell_type": "code",
   "execution_count": 22,
   "metadata": {},
   "outputs": [
    {
     "name": "stdout",
     "output_type": "stream",
     "text": [
      "Statistics for voting classifier, where simple majority rules:\n",
      "\n",
      "[[23  4]\n",
      " [ 5 29]]\n",
      "specificity :  0.8787878787878788\n",
      "sensitivity :  0.8214285714285714\n",
      "accuracy :  0.8524590163934426\n"
     ]
    }
   ],
   "source": [
    "print(\"Statistics for voting classifier, where simple majority rules:\\n\")\n",
    "print(conf_mat)\n",
    "print('specificity : ', specificity)\n",
    "print('sensitivity : ', sensitivity)\n",
    "print('accuracy : ', accuracy)"
   ]
  },
  {
   "cell_type": "code",
   "execution_count": 23,
   "metadata": {},
   "outputs": [],
   "source": [
    "conf_mat = confusion_matrix((y_test.values == 1.0),  (votes >= 2))\n",
    "total = sum(sum(conf_mat))\n",
    "sensitivity = conf_mat[0, 0]/(conf_mat[0, 0] + conf_mat[1, 0])\n",
    "specificity = conf_mat[1, 1]/(conf_mat[1, 1] + conf_mat[0, 1])\n",
    "accuracy = (conf_mat[0, 0] + conf_mat[1, 1])/total"
   ]
  },
  {
   "cell_type": "code",
   "execution_count": 24,
   "metadata": {},
   "outputs": [
    {
     "name": "stdout",
     "output_type": "stream",
     "text": [
      "Statistics for voting classifier, where it only takes 2 positive votes (out of 7 votes) to declare a positive result:\n",
      "\n"
     ]
    }
   ],
   "source": [
    "print(\"Statistics for voting classifier, where it only takes 2 positive votes (out of 7 votes) to declare \"\n",
    "      \"a positive result:\\n\")"
   ]
  },
  {
   "cell_type": "code",
   "execution_count": 25,
   "metadata": {},
   "outputs": [
    {
     "name": "stdout",
     "output_type": "stream",
     "text": [
      "[[21  6]\n",
      " [ 2 32]]\n",
      "specificity :  0.8421052631578947\n",
      "sensitivity :  0.9130434782608695\n",
      "accuracy :  0.8688524590163934\n"
     ]
    }
   ],
   "source": [
    "print(conf_mat)\n",
    "print('specificity : ', specificity)\n",
    "print('sensitivity : ', sensitivity)\n",
    "print('accuracy : ', accuracy)"
   ]
  },
  {
   "cell_type": "code",
   "execution_count": null,
   "metadata": {},
   "outputs": [],
   "source": []
  }
 ],
 "metadata": {
  "kernelspec": {
   "display_name": "Python 3",
   "language": "python",
   "name": "python3"
  },
  "language_info": {
   "codemirror_mode": {
    "name": "ipython",
    "version": 3
   },
   "file_extension": ".py",
   "mimetype": "text/x-python",
   "name": "python",
   "nbconvert_exporter": "python",
   "pygments_lexer": "ipython3",
   "version": "3.7.6"
  }
 },
 "nbformat": 4,
 "nbformat_minor": 4
}
